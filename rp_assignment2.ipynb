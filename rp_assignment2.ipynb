{
  "nbformat": 4,
  "nbformat_minor": 0,
  "metadata": {
    "colab": {
      "name": "rp_assignment2.ipynb",
      "provenance": [],
      "collapsed_sections": [],
      "authorship_tag": "ABX9TyNyaKIFi0HoZXaZuNTqWtFL",
      "include_colab_link": true
    },
    "kernelspec": {
      "name": "python3",
      "display_name": "Python 3"
    }
  },
  "cells": [
    {
      "cell_type": "markdown",
      "metadata": {
        "id": "view-in-github",
        "colab_type": "text"
      },
      "source": [
        "<a href=\"https://colab.research.google.com/github/spacexjedi/data-science-101/blob/master/rp_assignment2.ipynb\" target=\"_parent\"><img src=\"https://colab.research.google.com/assets/colab-badge.svg\" alt=\"Open In Colab\"/></a>"
      ]
    },
    {
      "cell_type": "code",
      "metadata": {
        "id": "BYStMT_ElV_1"
      },
      "source": [
        "\"\"\"\n",
        "Identificar três possíveis eventos em sinais gravados com o OpenBCI. Os eventos são os seguintes:\n",
        "• Mordida ou aperto de mandíbula (jaw clench);\n",
        "• Piscar dos olhos (blink);\n",
        "• Ritmos alpha: onda evocada no estado de meditação, aumentando as frequências que vão de 8 à 13 Hz.\n",
        "• E ritmos beta: onda evocada no estado de concentração, aumentando as frequências que vão de 13 à 32 Hz.\n",
        "O arquivo \"Gravação_EEG_OpenBCI-GUI.mp4\" contém a explicação dos períodos em que são evocados os quatro eventos.\n",
        "O arquivo \"OpenBCI-RAW-2020-11-02_01-35-26.txt\" contém os dados gravados pelo vídeo anterior, contendo os quatro eventos.\n",
        "O arquivo \"OpenBCI_GUI-v5-meditation.txt\" contém dados gravados no OpenBCI de um longo período de meditação, evocando intensamente os ritmos alpha.\n",
        "Vocês deverão entregar um código que indique o momento em que um evento inicia e termina, além de nomear o evento ocorrido.\n",
        "\"\"\""
      ],
      "execution_count": null,
      "outputs": []
    },
    {
      "cell_type": "code",
      "metadata": {
        "id": "-uQizS5Bw_iy",
        "outputId": "a37e6e4d-ffcd-4fd5-d006-fb0ad059e4e4",
        "colab": {
          "base_uri": "https://localhost:8080/"
        }
      },
      "source": [
        "!pip install mne"
      ],
      "execution_count": null,
      "outputs": [
        {
          "output_type": "stream",
          "text": [
            "Collecting mne\n",
            "\u001b[?25l  Downloading https://files.pythonhosted.org/packages/d6/4d/430bade320c039681ef167422dbd01f4451fd45e6747923bf0bb3b01dae1/mne-0.21.1-py3-none-any.whl (6.8MB)\n",
            "\u001b[K     |████████████████████████████████| 6.8MB 5.2MB/s \n",
            "\u001b[?25hRequirement already satisfied: scipy>=0.17.1 in /usr/local/lib/python3.6/dist-packages (from mne) (1.4.1)\n",
            "Requirement already satisfied: numpy>=1.11.3 in /usr/local/lib/python3.6/dist-packages (from mne) (1.18.5)\n",
            "Installing collected packages: mne\n",
            "Successfully installed mne-0.21.1\n"
          ],
          "name": "stdout"
        }
      ]
    },
    {
      "cell_type": "code",
      "metadata": {
        "id": "tTjbriNgaRZ6",
        "outputId": "9c7d9df1-f842-4849-ecab-52bfc0819abe",
        "colab": {
          "base_uri": "https://localhost:8080/"
        }
      },
      "source": [
        "!pip install pylsl"
      ],
      "execution_count": null,
      "outputs": [
        {
          "output_type": "stream",
          "text": [
            "Collecting pylsl\n",
            "\u001b[?25l  Downloading https://files.pythonhosted.org/packages/4d/e4/88664d5cadbc6bab43fb213669293ce72502e470504127cac4ca2f1ff032/pylsl-1.13.6-py2.py3-none-manylinux2010_x86_64.whl (905kB)\n",
            "\u001b[K     |████████████████████████████████| 911kB 5.9MB/s \n",
            "\u001b[?25hInstalling collected packages: pylsl\n",
            "Successfully installed pylsl-1.13.6\n"
          ],
          "name": "stdout"
        }
      ]
    },
    {
      "cell_type": "code",
      "metadata": {
        "id": "WJsmqEqrUMro"
      },
      "source": [
        "# é preciso carregar o arquivo OpenBCI-RAW-2020-11-02_01-35-26.txt na pasta antes de rodar, não fica salvo no google colab\n",
        "# https://github.com/spacexjedi/data-science-101/tree/master/MAMEM_SSVEP/T2"
      ],
      "execution_count": 1,
      "outputs": []
    },
    {
      "cell_type": "code",
      "metadata": {
        "id": "PViv9QrwxcGI"
      },
      "source": [
        "#bibliotecas\n",
        "import mne\n",
        "import matplotlib.pyplot as plt \n",
        "from pylsl import*\n",
        "import numpy as np\n",
        "import re\n",
        "import time\n",
        "import scipy"
      ],
      "execution_count": null,
      "outputs": []
    },
    {
      "cell_type": "code",
      "metadata": {
        "id": "kDU314d4yLHc"
      },
      "source": [
        "#carregar arquivo\n",
        "filepath = './OpenBCI-RAW-2020-11-02_01-35-26.txt'\n",
        "def read_file(filepath):\n",
        "  data = open(filepath).readlines()\n",
        "  labels = StreamInfo('OpenBCI', 'EEG', 8, 256, 'float32', 'rp')\n",
        "  stream = StreamOutlet(labels)\n",
        "  for i in data:\n",
        "    if re.search(r'^\\d', i):\n",
        "      line = [float(e[1:]) for e in line.split(',')[1:9]]\n",
        "      stream.push_sample(line)\n",
        "      sleep(1/256)"
      ],
      "execution_count": null,
      "outputs": []
    },
    {
      "cell_type": "code",
      "metadata": {
        "id": "lbURPFYJyOLB"
      },
      "source": [
        "#processamento\n",
        "freq_dict = {'delta':(0.5,3),'theta':(4,7),'alpha':(8,12),'beta':(12,30),'gamma':(33,90)}\n",
        "width = 10\n",
        "chunk = 250\n",
        "\n",
        "streaming = StreamInlet(resolve_stream('type', 'EEG')[0])\n",
        "values, timestamp = streaming.pull_chunk(timeout=3, max_samples=chunk)\n",
        "buffer = np.array(values)\n",
        "\n",
        "for i in range(width - 2):\n",
        "  values, timestamp = streaming.pull_chunk(timeout=3, max_samples=chunk)\n",
        "  buffer = np.concatenate((buffer, values))\n",
        "  print(i)\n",
        "  print(buffer.shape)"
      ],
      "execution_count": null,
      "outputs": []
    },
    {
      "cell_type": "code",
      "metadata": {
        "id": "abodmXNNeAL-"
      },
      "source": [
        "while True:\n",
        "  values, timestamp = streaminig.pull_chunk(timeout=3, max_samples=chunk)\n",
        "  buffer = np.concatenate((buffer, values))\n",
        "  freq, psd = welch(buffer, fs=250., nperseg=8)\n",
        "  output = {band: np.mean(psd[np.where((freq >= lf) & (freq <= hf))]) for band, (lf, hf) in eeg_bands.items()}\n",
        "  print(output)\n",
        "  print(buffer.shape)\n",
        "  buffer = np.delete(buffer, slice(chunk), axis=0)\n",
        "  print(buffer.shape)"
      ],
      "execution_count": null,
      "outputs": []
    },
    {
      "cell_type": "code",
      "metadata": {
        "id": "jODW2-FoyW7Z"
      },
      "source": [
        "#matplot\n",
        "value_alpha = freq_dict['alpha']\n",
        "value_beta = freq_dict['beta']\n",
        "value_delta = freq_dict['delta']\n",
        "value_theta = freq_dict['theta']\n",
        "value_gamma = freq_dict['gamma']\n",
        "value = [value_alpha, value_beta, value_delta, value_theta, value_gamma]\n",
        "names = ['alpha', 'beta', 'delta', 'theta', 'gamma']\n",
        "plt.bar(names, value, color=['pink', 'blue', 'green', 'purple', 'yellow'])\n",
        "plt.show()"
      ],
      "execution_count": null,
      "outputs": []
    },
    {
      "cell_type": "code",
      "metadata": {
        "id": "iL8X_Bzh5WGd"
      },
      "source": [
        "#Referências\n",
        "#Documentação: https://docs.python.org/3/\n",
        "#Livro: Python para Desenvolvedores, Luis Borges\n",
        "#Vídeo sobre OpenBCI fornecido pelo professor"
      ],
      "execution_count": 2,
      "outputs": []
    }
  ]
}