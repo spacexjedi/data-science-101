{
  "nbformat": 4,
  "nbformat_minor": 0,
  "metadata": {
    "colab": {
      "name": "MNE.ipynb",
      "provenance": [],
      "collapsed_sections": [],
      "authorship_tag": "ABX9TyOjQypMstEAvfLCKZAk7lko",
      "include_colab_link": true
    },
    "kernelspec": {
      "name": "python3",
      "display_name": "Python 3"
    }
  },
  "cells": [
    {
      "cell_type": "markdown",
      "metadata": {
        "id": "view-in-github",
        "colab_type": "text"
      },
      "source": [
        "<a href=\"https://colab.research.google.com/github/spacexjedi/data-science-101/blob/master/MNE.ipynb\" target=\"_parent\"><img src=\"https://colab.research.google.com/assets/colab-badge.svg\" alt=\"Open In Colab\"/></a>"
      ]
    },
    {
      "cell_type": "code",
      "metadata": {
        "id": "DtWEMdlOWw_q",
        "colab_type": "code",
        "colab": {
          "base_uri": "https://localhost:8080/",
          "height": 35
        },
        "outputId": "c0a2a9e4-8231-4175-dc2b-32de4d5f5ddf"
      },
      "source": [
        "\"Start script to model data\"\n",
        "%run start.ipynb"
      ],
      "execution_count": 3,
      "outputs": [
        {
          "output_type": "stream",
          "text": [
            "ERROR:root:File `'start.ipynb.py'` not found.\n"
          ],
          "name": "stderr"
        }
      ]
    },
    {
      "cell_type": "code",
      "metadata": {
        "id": "97F8jqY2XOZA",
        "colab_type": "code",
        "colab": {}
      },
      "source": [
        "!pip3 install mne\n",
        "import mne # library of ECC\n",
        "import matplotlib # library of data science\n",
        "\n",
        "print(\"Valores: \")\n",
        "elect = mne.channels.make_standard_montage('EGI_256')\n",
        "obj = mne.create_info(montage.ch_names, sfreq=descriptor['sampling_rate'], ch_types='eeg')\n",
        "obj.set_montage(elect)\n",
        "\n",
        "#epoch array\n",
        "print(\"Eletrodos: \")\n",
        "X = X[:,:256,:]\n",
        "events = np.array([[i, 0, e] for i, e in enumerate(y)])\n",
        "epoch = mne.EpochsArray(X, obj, events=events)\n",
        "epoch\n",
        "\n",
        "#filter\n",
        "print(\"Eletrodos selecionados: \")\n",
        "epoch = epoch.copy().pick_channels(['E116', 'E126', 'E150'])\n",
        "epoch\n",
        "\n",
        "# filter\n",
        "print(\"Eletrodos Hz: \")\n",
        "epoch.filter(l_freq = 5.0, h_freq = 14.0)\n",
        "\n",
        "# Testing ploting\n",
        "\n",
        "print(\"Gráficos\")\n",
        "for j in range(1, 5):\n",
        "    for i in (0, len(epoch[str(j)])):\n",
        "        print('Trial ', i)\n",
        "        epoch[str(j)][-i].plot_psd(fmin=5.0, fmax=14.0)\n",
        "events"
      ],
      "execution_count": null,
      "outputs": []
    }
  ]
}