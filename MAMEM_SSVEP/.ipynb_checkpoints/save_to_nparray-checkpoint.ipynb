{
 "cells": [
  {
   "cell_type": "markdown",
   "metadata": {},
   "source": [
    "## EEG SSVEP Dataset II from MAMEN"
   ]
  },
  {
   "cell_type": "code",
   "execution_count": 2,
   "metadata": {
    "scrolled": false
   },
   "outputs": [
    {
     "name": "stdout",
     "output_type": "stream",
     "text": [
      "Subject 1 / Session a\n",
      "Subject 1 / Session b\n",
      "Subject 1 / Session c\n",
      "Subject 1 / Session d\n",
      "Subject 1 / Session e\n",
      "Subject 2 / Session a\n",
      "Subject 2 / Session b\n",
      "Subject 2 / Session c\n",
      "Subject 2 / Session d\n",
      "Subject 2 / Session e\n",
      "Subject 3 / Session a\n",
      "Subject 3 / Session b\n",
      "Subject 3 / Session c\n",
      "Subject 3 / Session d\n",
      "Subject 3 / Session e\n",
      "Subject 4 / Session a\n",
      "Subject 4 / Session b\n",
      "Subject 4 / Session c\n",
      "Subject 4 / Session d\n",
      "Subject 4 / Session e\n",
      "Subject 5 / Session a\n",
      "Subject 5 / Session b\n",
      "Subject 5 / Session c\n",
      "Subject 5 / Session d\n",
      "Subject 5 / Session e\n",
      "Subject 8 / Session a\n",
      "Subject 8 / Session b\n",
      "Subject 8 / Session c\n",
      "Subject 8 / Session d\n",
      "Subject 8 / Session e\n",
      "Subject 9 / Session a\n",
      "Subject 9 / Session b\n",
      "Subject 9 / Session c\n",
      "Subject 9 / Session d\n",
      "Subject 9 / Session e\n",
      "Subject 11 / Session a\n",
      "Subject 11 / Session b\n",
      "Subject 11 / Session c\n",
      "Subject 11 / Session d\n",
      "Subject 11 / Session e\n",
      "Finished!\n"
     ]
    }
   ],
   "source": [
    "from scipy.io import loadmat\n",
    "import numpy as np\n",
    "\n",
    "\n",
    "m_of_m = list()\n",
    "new_data = list()\n",
    "for num in range(1, 12):\n",
    "    # subjects 6 and 10 there are problems with final count samples\n",
    "    if num in (6, 7, 10): continue\n",
    "    trial = list()\n",
    "    for letter in 'abcde':\n",
    "        print('Subject', num, '/ Session', letter)\n",
    "        data = loadmat('dataset/T0{:02d}{}.mat'.format(num, letter))\n",
    "        labels = [l[0][0] for l in data['labels'][0]]\n",
    "        calc = list()\n",
    "        for i in range(1, len(data['DIN_1'][3])):\n",
    "            ids = data['DIN_1'][3][i - 1][0][0], data['DIN_1'][3][i][0][0]\n",
    "            interval = ids[1] - ids[0]\n",
    "            # interval more than 50 is other target\n",
    "            if interval > 50:\n",
    "                calc.append(ids)\n",
    "        indexes = list()\n",
    "        for i in range(1, len(calc)):\n",
    "            first = calc[i - 1][1]\n",
    "            last = calc[i][0]\n",
    "            # difference more than 1000 qualify a trial\n",
    "            if (last - first) > 1000:\n",
    "                indexes.append((last, first))\n",
    "        indexes.append((data['DIN_1'][3][-1][0][0], calc[-1][1]))\n",
    "        # get the minor size of trial\n",
    "        minor = min([(l - f) for l, f in indexes])\n",
    "        m_of_m.append(minor)\n",
    "        trial.append(np.array([data['eeg'][:,f:f+1205] for l, f in indexes]))\n",
    "        # print('Shape', X.shape)\n",
    "        # print()\n",
    "    new_data.append(trial)\n",
    "# showing minor of minors\n",
    "# print(min(m_of_m))\n",
    "print('Finished!')\n",
    "new_data = np.array(new_data)"
   ]
  },
  {
   "cell_type": "markdown",
   "metadata": {},
   "source": [
    "### Final shape\n",
    "\n",
    "`[subjects, sessions, trials, channels, samples]`"
   ]
  },
  {
   "cell_type": "code",
   "execution_count": 3,
   "metadata": {},
   "outputs": [
    {
     "name": "stdout",
     "output_type": "stream",
     "text": [
      "(8, 5, 25, 257, 1205)\n",
      "[4, 2, 3, 5, 1, 2, 5, 4, 2, 3, 1, 5, 4, 3, 2, 4, 1, 2, 5, 3, 4, 1, 3, 1, 3]\n"
     ]
    }
   ],
   "source": [
    "print(new_data.shape)\n",
    "# Labels sequence\n",
    "print(labels)"
   ]
  },
  {
   "cell_type": "markdown",
   "metadata": {},
   "source": [
    "It is usually best to work with sessions and trials in the same dimension so that the amount of samples for training is higher.\n",
    "\n",
    "Labels also need to be modified for reshape.\n",
    "\n",
    "The dataset shape will be: `[subjects, trials, channels, samples]`"
   ]
  },
  {
   "cell_type": "code",
   "execution_count": 4,
   "metadata": {},
   "outputs": [
    {
     "name": "stdout",
     "output_type": "stream",
     "text": [
      "(8, 125, 257, 1205)\n",
      "(125,)\n"
     ]
    }
   ],
   "source": [
    "new_data = np.reshape(new_data, (8, 125, 257, 1205))\n",
    "# save the final dataset in numpy.array per subjects\n",
    "for i in range(len(new_data)):\n",
    "    np.save('EEG_SSVEP_Dataset_II_{}'.format(i + 1), new_data[i])\n",
    "labels = np.array(labels * 5)\n",
    "# save labels in numpy.array\n",
    "np.save('EEG_SSVEP_Dataset_II_labels', labels)\n",
    "print(new_data.shape)\n",
    "print(labels.shape)"
   ]
  },
  {
   "cell_type": "code",
   "execution_count": null,
   "metadata": {},
   "outputs": [],
   "source": []
  }
 ],
 "metadata": {
  "kernelspec": {
   "display_name": "Python 3",
   "language": "python",
   "name": "python3"
  },
  "language_info": {
   "codemirror_mode": {
    "name": "ipython",
    "version": 3
   },
   "file_extension": ".py",
   "mimetype": "text/x-python",
   "name": "python",
   "nbconvert_exporter": "python",
   "pygments_lexer": "ipython3",
   "version": "3.6.9"
  }
 },
 "nbformat": 4,
 "nbformat_minor": 2
}
