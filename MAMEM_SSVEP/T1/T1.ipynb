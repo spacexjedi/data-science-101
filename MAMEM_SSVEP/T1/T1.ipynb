{
 "cells": [
  {
   "cell_type": "code",
   "execution_count": null,
   "metadata": {},
   "outputs": [],
   "source": [
    "Trabalho 1 - Reconhecimento de Padrões"
   ]
  },
  {
   "cell_type": "code",
   "execution_count": 1,
   "metadata": {},
   "outputs": [
    {
     "name": "stdout",
     "output_type": "stream",
     "text": [
      "(125, 257, 1205)\n"
     ]
    }
   ],
   "source": [
    "import numpy as np\n",
    "import scipy\n",
    "import pandas as pd\n",
    "\n",
    "\n",
    "filename = (\"EEG_SSVEP_Dataset_II_1.npy\")\n",
    "data = np.load(filename)\n",
    "print(data.shape)\n"
   ]
  },
  {
   "cell_type": "code",
   "execution_count": null,
   "metadata": {},
   "outputs": [],
   "source": [
    "Os dados estão estruturados em numpy arrays.\n",
    "\n",
    "O \"shape\" (125, 257, 1205) para os dados EEG de X, significa que existem 125 trials (tradução aceitável: ensaio, julgamento), 257 channels que representam os eletrodos e 1205 dados que representam o potencial mensurado em ponto flutuante. Este é um array com três dimensões."
   ]
  },
  {
   "cell_type": "code",
   "execution_count": null,
   "metadata": {},
   "outputs": [],
   "source": [
    "Resumo do Artigo\n",
    "\n",
    "Sinais EEG com 256 canais capturados de 11 categorias executando o protocolo SSVEP.\n",
    "Durante frequências diferentes 6.66, 7.50, 8.57, 10.00 e 12.00Hz para simulação visual.\n",
    "\n",
    "Os individuos (Subjects) foram classificados por idade, genero, biotipo, tamanho do cabelo\n",
    "e abilidade da mão.\n",
    "\n",
    "Observações importantes\n",
    "\n",
    "Freqüências de oscilação:\n",
    " Normalmente, a taxa de atualização de uma tela LCD é de 60 Hz, criando uma restrição ao número de freqüências que podem ser selecionadas.\n",
    " Especificamente, apenas as frequências que, quando divididas com a taxa de atualização da tela resultam em um quociente inteiro, podem ser selecionadas. \n",
    " Como resultado, as frequências que puderam ser obtidas foram as seguintes: 30,00, 20,00, 15,00, 12,00, 10,00, 8,57, 7,50 e 6,66 Hz. \n",
    " Além disso, também é importante evitar o uso de frequências que sejam múltiplos de outra frequência, por exemplo, fazer a escolha de usar 10,00 Hz proíbe o uso de 20,00 e 30,00 Hz. \n",
    " Tendo em mente as limitações descritas anteriormente, as frequências selecionadas para o experimento foram: 12,00, 10,00, 8,57, 7,50 e 6,66 Hz.\n",
    "\n",
    " Duração do ensaio: A duração de cada ensaio foi fixada em 5 segundos, pois este tempo foi considerado adequado para permitir o occipital do cérebro para imitar a frequência de estimulação e ainda ser pequeno o suficiente formando uma seleção no contexto de uma interface cérebro-computador. No entanto, a investigação da troca entre a precisão da classificação e a quantidade de tempo em que a frequência de oscilação é detectada está incluída em planos imediatos para trabalhos futuros. \n",
    "\n",
    " Artefatos observados: Durante a apresentação do estímulo ao sujeito S007, o material de pesquisa observou que o sujeito tinha um tendência a piscar os olhos.\n",
    " Como resultado, espera-se que a interferência, em matéria de artefatos, no sinal gravado seja alta.\n",
    " Consentimento informado: Antes do experimento, os participantes foram cuidadosamente instruídos sobre o procedimento de gravação e seus requisitos e receberam um formulário de consentimento para assinar após lendo-o completamente. \n",
    " Após a leitura do formulário e a escuta de nossas instruções orais, os sujeitos foram motivados a questionar o procedimento a fim de eliminar mal-entendidos sobre o processo. \n",
    " Ao assinar documento fornecido, os participantes declararam sua participação voluntária no experimento e seu consentimento em tornar seus dados públicos para fins de pesquisa."
   ]
  },
  {
   "cell_type": "code",
   "execution_count": null,
   "metadata": {},
   "outputs": [],
   "source": [
    "Questões \n",
    "\n",
    "Como escolher quais eletrodos utilizar?\n",
    "Os que trazem melhor informação para sua análise, que são os que processam a informação visual.\n",
    "\n",
    "A média de Todos os eletrodos é uma boa ideia?\n",
    "Não. Acho que só dos eletrodos depois da filtragem, porque tem eletrodos que causam ruídos no experimento.\n",
    "\n",
    "Como utilizar as informações de retorno do método set_eeg_reference?\n",
    "\n",
    "set_eeg_reference(ref_channels='average', projection=False, ch_type='auto', verbose=None)\n",
    "\n",
    "\n",
    "Nem sempre os canais são vistos como características. Uma outra forma é adicionar os canais às amostras (reduzindo a quantidade de características e aumentando a quantidade de amostras). O resultado disso deve ser avaliado.\n",
    "\n",
    "É comum a aplicação de algum algoritmo para reduzir todos os canais ou transformar apenas em um (que é o caso de aplicar a média de todos os eletrodos/canais). Utiliza o CAR .\n",
    "\n",
    "Adicionar características ruins confundem o resultado? Características que não estão relacionadas ao domínio do problema pode ser ruim? Isso deve ser avaliado...\n",
    "\n",
    "No aprendizado de máquina e no reconhecimento de padrões, uma feature é uma propriedade individual mensurável ou característica de um fenômeno que está sendo observado. A escolha de features informativas, discriminantes e independentes é uma etapa crucial para algoritmos eficazes no reconhecimento, classificação e regressão.\n",
    "\n",
    "Um conjunto de features numéricas pode ser convenientemente descrito por um feature vector - um vetor de característica é um vetor n-dimensional de características numéricas que representam algum objeto, . Uma das maneiras de alcançar a classificação binária é usar uma função de predição linear (relacionada ao perceptron) com um vetor de características como entrada. O método consiste em calcular o produto escalar entre o vetor de características e um vetor de pesos, comparar o resultado com um limite e decidir a classe com base na comparação.\n",
    "\n",
    "Algoritmos para classificação de um vetor de recursos incluem nearest neighbor classification, neural networks, e técnicas estatísticas, como abordagens Bayesianas.\n",
    "\n",
    "Solucões propostas para diminuir a dimensionalidade:\n",
    "\n",
    "    Selecao de Caracterısticas\n",
    "    Selecão de Canais\n",
    "    Filtragem Espacial\n",
    "    \n",
    "CAR MNE:\n",
    "    https://github.com/spacexjedi/data-science-101/blob/master/img/car.png\n",
    "\n",
    "\n",
    "REFERÊNCIAS\n",
    "\n",
    "https://mne.tools/stable/generated/mne.EpochsArray.html?highlight=set_eeg_reference#mne.EpochsArray.set_eeg_reference\n",
    "\n",
    "https://mne.tools/stable/overview/cookbook.html?highlight=average\n",
    "    \n",
    "https://en.wikipedia.org/wiki/Feature_(machine_learning)\n",
    "\n",
    "Hwan-Chang, Computational EEG Analysis, 2018, Springer.\n",
    "\n",
    "https://compmus.ime.usp.br/sites/ime.usp.br.compmus/files/2016_03_16_Seminario_Compmus___Miranda.pdf\n",
    "\n",
    "https://www.maxwell.vrac.puc-rio.br/17057/17057_5.PDF\n",
    "\n",
    "https://github.com/pbashivan/EEGLearn\n",
    "\n",
    "https://github.com/mne-tools/mne-python\n",
    "\n",
    "\n"
   ]
  }
 ],
 "metadata": {
  "kernelspec": {
   "display_name": "Python",
   "language": "python",
   "name": "conda-env-python-py"
  },
  "language_info": {
   "codemirror_mode": {
    "name": "ipython",
    "version": 3
   },
   "file_extension": ".py",
   "mimetype": "text/x-python",
   "name": "python",
   "nbconvert_exporter": "python",
   "pygments_lexer": "ipython3",
   "version": "3.6.11"
  }
 },
 "nbformat": 4,
 "nbformat_minor": 4
}
