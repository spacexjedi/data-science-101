{
  "nbformat": 4,
  "nbformat_minor": 0,
  "metadata": {
    "colab": {
      "name": "rp_assignment1.ipynb",
      "provenance": [],
      "collapsed_sections": [],
      "authorship_tag": "ABX9TyP0TzLgJtcTExHJpatctAkI",
      "include_colab_link": true
    },
    "kernelspec": {
      "name": "python3",
      "display_name": "Python 3"
    }
  },
  "cells": [
    {
      "cell_type": "markdown",
      "metadata": {
        "id": "view-in-github",
        "colab_type": "text"
      },
      "source": [
        "<a href=\"https://colab.research.google.com/github/spacexjedi/data-science-101/blob/master/rp_assignment1.ipynb\" target=\"_parent\"><img src=\"https://colab.research.google.com/assets/colab-badge.svg\" alt=\"Open In Colab\"/></a>"
      ]
    },
    {
      "cell_type": "code",
      "metadata": {
        "id": "cDus4RA6qFsL",
        "outputId": "19cbd89b-eb8b-4ae9-dced-a632f367d565",
        "colab": {
          "base_uri": "https://localhost:8080/",
          "height": 72
        }
      },
      "source": [
        "pip install mne"
      ],
      "execution_count": 7,
      "outputs": [
        {
          "output_type": "stream",
          "text": [
            "Requirement already satisfied: mne in /usr/local/lib/python3.6/dist-packages (0.21.0)\n",
            "Requirement already satisfied: scipy>=0.17.1 in /usr/local/lib/python3.6/dist-packages (from mne) (1.4.1)\n",
            "Requirement already satisfied: numpy>=1.11.3 in /usr/local/lib/python3.6/dist-packages (from mne) (1.18.5)\n"
          ],
          "name": "stdout"
        }
      ]
    },
    {
      "cell_type": "code",
      "metadata": {
        "id": "aw9KJw4ApFkT"
      },
      "source": [
        "# -------------------------------\n",
        "# importa bibliotecas\n",
        "# -------------------------------\n",
        "import mne\n",
        "import scipy\n",
        "import matplotlib\n",
        "import numpy as np\n",
        "import pandas as pd\n",
        "import PIL\n",
        "import json\n",
        "from sklearn.svm import SVC\n",
        "from scipy.signal import stft\n",
        "from sklearn.model_selection import GridSearchCV\n",
        "from sklearn.metrics import classification_report\n",
        "from sklearn.model_selection import train_test_split\n",
        "from sklearn.model_selection import StratifiedShuffleSplit\n",
        "from sklearn.neighbors import KNeighborsClassifier\n",
        "from google_drive_downloader import GoogleDriveDownloader as gdd"
      ],
      "execution_count": 8,
      "outputs": []
    },
    {
      "cell_type": "code",
      "metadata": {
        "id": "ShyiLYV9pxYJ",
        "outputId": "e3ad898b-647a-4085-ca56-65354d902a51",
        "colab": {
          "base_uri": "https://localhost:8080/",
          "height": 1000
        }
      },
      "source": [
        "# ------------------------\n",
        "# carrega dataset\n",
        "# ------------------------\n",
        "dataset_ids = {\n",
        "    1: '1ym3JqI4_ZYNSBLxoF1vNxI5Hsgur_tha',\n",
        "    2: '1tJ5tHbE-2jwr0gA33Gd873lRPao-e4dF',\n",
        "    3: '1tXdpY-mser01POaP6Qwixny6LjsXXoXB',\n",
        "    4: '1T00cliWp5yqqbbWZ7-rf2X4tOUQ-PvIQ',\n",
        "    5: '1CYsBFMul9zB_vCy0XD7XVfKUl8vihDYZ',\n",
        "    6: '1io6jdALBKeopELWXahPzuAi6EfYDgviW',\n",
        "    7: '1YDkheRDPNDR1ujsqqC_SY6cebWHkw9Xt',\n",
        "    8: '1jjoQJFDCi7O9Q-iaReAPpQnxC-HIKpQi',\n",
        "}\n",
        "label_id = '1mD5MXoh6tfQJFXIvdw2MQsEu6vZka6C0'\n",
        "desc = '14kYNBZYdttqmSS_Vz6Bm_ztG9Uw1MC0y'\n",
        "\n",
        "# escolhe qual dataset quer utilizar\n",
        "DS = 1\n",
        "\n",
        "# download do dataset\n",
        "gdd.download_file_from_google_drive(file_id=dataset_ids[DS],\n",
        "                                    dest_path='files/data.npy',\n",
        "                                    showsize=True)\n",
        "# download dos rótulos\n",
        "gdd.download_file_from_google_drive(file_id=label_id,\n",
        "                                    dest_path='files/labels.npy', showsize=True)\n",
        "\n",
        "# download do arquivo de descrição\n",
        "gdd.download_file_from_google_drive(file_id=desc,\n",
        "                                    dest_path='files/descriptor.json',\n",
        "                                    showsize=True)\n",
        "\n",
        "data = np.load('files/data.npy') # x\n",
        "labels = np.load('files/labels.npy') # y\n",
        "\n",
        "desc_file = open('files/descriptor.json')\n",
        "desc_json = json.loads(desc_file.read())\n",
        "desc_file.close()\n",
        "\n",
        "print('Estruturas => dados', data.shape, 'labels', labels.shape)\n",
        "print(labels)\n",
        "print(data)\n",
        "print(desc_json)\n",
        "s = pd.Series(labels)\n",
        "print(s)\n",
        "#tamanho = s.size\n",
        "#print(tamanho)"
      ],
      "execution_count": 9,
      "outputs": [
        {
          "output_type": "stream",
          "text": [
            "Estruturas => dados (125, 257, 1205) labels (125,)\n",
            "[4 2 3 5 1 2 5 4 2 3 1 5 4 3 2 4 1 2 5 3 4 1 3 1 3 4 2 3 5 1 2 5 4 2 3 1 5\n",
            " 4 3 2 4 1 2 5 3 4 1 3 1 3 4 2 3 5 1 2 5 4 2 3 1 5 4 3 2 4 1 2 5 3 4 1 3 1\n",
            " 3 4 2 3 5 1 2 5 4 2 3 1 5 4 3 2 4 1 2 5 3 4 1 3 1 3 4 2 3 5 1 2 5 4 2 3 1\n",
            " 5 4 3 2 4 1 2 5 3 4 1 3 1 3]\n",
            "[[[-5.00655859e+03 -5.00834814e+03 -5.01312891e+03 ... -5.08810449e+03\n",
            "   -5.09060254e+03 -5.08067334e+03]\n",
            "  [ 1.89977979e+03  1.90244604e+03  1.89206934e+03 ...  1.89928076e+03\n",
            "    1.90241650e+03  1.90704724e+03]\n",
            "  [-3.43963203e+01 -3.03205070e+01 -3.97296295e+01 ... -1.38469672e+00\n",
            "    1.05790544e+00  7.22508764e+00]\n",
            "  ...\n",
            "  [-9.77333594e+03 -9.76430273e+03 -9.76855176e+03 ... -9.53067578e+03\n",
            "   -9.52037109e+03 -9.50803906e+03]\n",
            "  [-2.43534985e+03 -2.42639746e+03 -2.43044531e+03 ... -2.41924609e+03\n",
            "   -2.41576978e+03 -2.40342456e+03]\n",
            "  [ 0.00000000e+00  0.00000000e+00  0.00000000e+00 ...  0.00000000e+00\n",
            "    0.00000000e+00  0.00000000e+00]]\n",
            "\n",
            " [[-5.11064209e+03 -5.10834033e+03 -5.09620801e+03 ... -5.19740527e+03\n",
            "   -5.21291797e+03 -5.19794434e+03]\n",
            "  [ 1.89935596e+03  1.90090137e+03  1.90846204e+03 ...  1.84302478e+03\n",
            "    1.83083093e+03  1.84110229e+03]\n",
            "  [ 1.72716999e+01  1.58553200e+01  2.19750233e+01 ... -9.23777294e+00\n",
            "   -1.89388180e+01 -8.97925282e+00]\n",
            "  ...\n",
            "  [-9.45248730e+03 -9.44330957e+03 -9.43808594e+03 ... -9.45907910e+03\n",
            "   -9.46683789e+03 -9.46976367e+03]\n",
            "  [-2.38823877e+03 -2.38283643e+03 -2.37796558e+03 ... -2.41288770e+03\n",
            "   -2.41320972e+03 -2.41251904e+03]\n",
            "  [ 0.00000000e+00  0.00000000e+00  0.00000000e+00 ...  0.00000000e+00\n",
            "    0.00000000e+00  0.00000000e+00]]\n",
            "\n",
            " [[-5.22748389e+03 -5.21454150e+03 -5.21721826e+03 ... -5.28443066e+03\n",
            "   -5.28021729e+03 -5.28322900e+03]\n",
            "  [ 1.90453015e+03  1.91441223e+03  1.91045068e+03 ...  1.88562317e+03\n",
            "    1.89623865e+03  1.89651477e+03]\n",
            "  [ 6.59568787e+01  7.58824921e+01  7.04990463e+01 ...  6.56598358e+01\n",
            "    7.19863586e+01  7.83890915e+01]\n",
            "  ...\n",
            "  [-9.12536816e+03 -9.09262012e+03 -9.10981152e+03 ... -9.03649609e+03\n",
            "   -9.04517871e+03 -9.03878711e+03]\n",
            "  [-2.42030322e+03 -2.38694897e+03 -2.40695264e+03 ... -2.43322778e+03\n",
            "   -2.43307861e+03 -2.42726660e+03]\n",
            "  [ 0.00000000e+00  0.00000000e+00  0.00000000e+00 ...  0.00000000e+00\n",
            "    0.00000000e+00  0.00000000e+00]]\n",
            "\n",
            " ...\n",
            "\n",
            " [[-7.66284619e+03 -7.62727734e+03 -7.63197363e+03 ... -7.71255518e+03\n",
            "   -7.72050098e+03 -7.71225049e+03]\n",
            "  [ 4.36032471e+03  4.38306006e+03  4.39373193e+03 ...  4.35903174e+03\n",
            "    4.35231348e+03  4.36705957e+03]\n",
            "  [ 6.33433398e+03  6.35930713e+03  6.36140088e+03 ...  6.33981445e+03\n",
            "    6.33742725e+03  6.34203174e+03]\n",
            "  ...\n",
            "  [-2.67773984e+04 -2.67647324e+04 -2.67757344e+04 ... -2.68251289e+04\n",
            "   -2.68194141e+04 -2.68154023e+04]\n",
            "  [-6.12969580e+03 -6.11766113e+03 -6.12876123e+03 ... -6.16877344e+03\n",
            "   -6.16075684e+03 -6.15712109e+03]\n",
            "  [ 0.00000000e+00  0.00000000e+00  0.00000000e+00 ...  0.00000000e+00\n",
            "    0.00000000e+00  0.00000000e+00]]\n",
            "\n",
            " [[-7.80086719e+03 -7.79823584e+03 -7.79550244e+03 ... -7.79137939e+03\n",
            "   -7.78914355e+03 -7.78111035e+03]\n",
            "  [ 4.16631934e+03  4.17422852e+03  4.16788574e+03 ...  4.15834180e+03\n",
            "    4.14068945e+03  4.16987109e+03]\n",
            "  [ 6.32246680e+03  6.33770605e+03  6.32620557e+03 ...  6.34734814e+03\n",
            "    6.35669873e+03  6.32186377e+03]\n",
            "  ...\n",
            "  [-2.68533555e+04 -2.68548555e+04 -2.68650527e+04 ... -2.68984160e+04\n",
            "   -2.68912773e+04 -2.68793418e+04]\n",
            "  [-6.19992090e+03 -6.19904639e+03 -6.20868408e+03 ... -6.21629688e+03\n",
            "   -6.20993652e+03 -6.20096289e+03]\n",
            "  [ 0.00000000e+00  0.00000000e+00  0.00000000e+00 ...  0.00000000e+00\n",
            "    0.00000000e+00  0.00000000e+00]]\n",
            "\n",
            " [[-7.75940430e+03 -7.74546387e+03 -7.76654736e+03 ... -7.72207422e+03\n",
            "   -7.72605762e+03 -7.73055078e+03]\n",
            "  [ 4.16954346e+03  4.17929053e+03  4.15841797e+03 ...  4.22019482e+03\n",
            "    4.21917627e+03  4.19918018e+03]\n",
            "  [ 6.32842236e+03  6.32923389e+03  6.32072852e+03 ...  6.37080420e+03\n",
            "    6.37893701e+03  6.35697705e+03]\n",
            "  ...\n",
            "  [-2.69096074e+04 -2.69108652e+04 -2.69254473e+04 ... -2.69332949e+04\n",
            "   -2.69234180e+04 -2.69157090e+04]\n",
            "  [-6.24739307e+03 -6.24608643e+03 -6.26062598e+03 ... -6.24803516e+03\n",
            "   -6.23862500e+03 -6.23229004e+03]\n",
            "  [ 0.00000000e+00  0.00000000e+00  0.00000000e+00 ...  0.00000000e+00\n",
            "    0.00000000e+00  0.00000000e+00]]]\n",
            "{'1': {'age': '25', 'capsize': 'Adult Medium', 'gender': 'Male', 'hairtype': 'Regular', 'handedness': 'Right'}, '2': {'age': '37', 'capsize': 'Adult Small', 'gender': 'Male', 'hairtype': 'Regular', 'handedness': 'Right'}, '3': {'age': '39', 'capsize': 'Adult Medium', 'gender': 'Male', 'hairtype': 'Thick', 'handedness': 'Right'}, '4': {'age': '31', 'capsize': 'Adult Medium', 'gender': 'Male', 'hairtype': 'Thick', 'handedness': 'Right'}, '5': {'age': '27', 'capsize': 'Adult Medium', 'gender': 'Female', 'hairtype': 'Thick', 'handedness': 'Left'}, '6': {'age': '31', 'capsize': 'Adult Medium', 'gender': 'Female', 'hairtype': 'Thick', 'handedness': 'Right'}, '7': {'age': '29', 'capsize': 'Adult Medium', 'gender': 'Male', 'hairtype': 'Short', 'handedness': 'Right'}, '8': {'age': '25', 'capsize': 'Adult Medium', 'gender': 'Male', 'hairtype': 'Regular', 'handedness': 'Right'}, 'sampling_rate': 250, 'frequencies': {'1': 6.66, '2': 7.5, '3': 8.57, '4': 10.0, '5': 12.0}}\n",
            "0      4\n",
            "1      2\n",
            "2      3\n",
            "3      5\n",
            "4      1\n",
            "      ..\n",
            "120    4\n",
            "121    1\n",
            "122    3\n",
            "123    1\n",
            "124    3\n",
            "Length: 125, dtype: uint8\n"
          ],
          "name": "stdout"
        }
      ]
    },
    {
      "cell_type": "code",
      "metadata": {
        "id": "aHkHvB-Lp55H",
        "outputId": "6c03e902-a7a2-4924-e3a8-7dff6a56e63f",
        "colab": {
          "base_uri": "https://localhost:8080/",
          "height": 513
        }
      },
      "source": [
        "# retirar eletrodo de referência\n",
        "data = data[:,:256,:]\n",
        "# dados / tempo\n",
        "sampling_frequency = data.shape[-1] / 5\n",
        "# montage - touca de eletro\n",
        "montage = mne.channels.make_standard_montage('EGI_256')\n",
        "ch_triais = data.shape[0]\n",
        "ch_names = data.shape[1]\n",
        "ch_ppf = data.shape[2]\n",
        "ch_types = 'eeg'\n",
        "\n",
        "# Criando as informações do obejto mne\n",
        "info = mne.create_info(montage.ch_names, sampling_frequency, ch_types)\n",
        "info.set_montage(montage)\n",
        "events = np.array([[index, 0, event] for index, event in enumerate(labels)])\n",
        "epoch = mne.EpochsArray(data, info, events)\n",
        "\n",
        "# Escolha dos eletrodos, utilizando os mesmos das aula\n",
        "filtered_epoch = epoch.copy().pick_channels(['E108', 'E109', 'E116', 'E125', 'E118', 'E117', 'E126',\n",
        "                      'E139', 'E127', 'E138', 'E140', 'E150', 'E151'])\n",
        "# Filtrando frequênica\n",
        "filtered_epoch.filter(l_freq = 5.0, h_freq = 14.0)\n",
        "\n",
        "'''\n",
        "Obtendo as caracteristicas pelo predictive sparse decomposition.\n",
        "'''\n",
        "Y = np.load('files/labels.npy') # rótulos\n",
        "X, _ = mne.time_frequency.psd_multitaper(filtered_epoch, fmin=5.0, fmax=14.0)\n",
        "k_linear = []\n",
        "k_polynomial = []\n",
        "for f in [6.66, 7.5, 8.57, 10.0, 12]:\n",
        "    X, _ = mne.time_frequency.psd_multitaper(filtered_epoch, fmin=f-0.5, fmax=f+0.5)\n",
        "    X = X.reshape(X.shape[0], X.shape[1] * X.shape[2])\n",
        "    \n",
        "    parameters_linear= {\n",
        "        'kernel': ['linear'],\n",
        "        'C':[0.01, 0.1, 1, 10, 100, 1000]\n",
        "    }\n",
        "\n",
        "    parameters_poly= {\n",
        "        'kernel': ['poly'],\n",
        "        'C':[0.01, 0.1, 1, 10, 100, 1000],\n",
        "        'gamma': [10, 1, 0.1, 0.01, 0.001, 0.0001, 0.00001, 0.000001]\n",
        "    }\n",
        "    # Stratified Shuffle Split cross validator\n",
        "    ssc = StratifiedShuffleSplit(n_splits=50, test_size=0.2)\n",
        "\n",
        "    grid_search_linear = GridSearchCV(SVC(), parameters_linear, n_jobs=-1, cv=ssc)\n",
        "    grid_search_polynomial = GridSearchCV(SVC(), parameters_poly, n_jobs=-1, cv=ssc)\n",
        "\n",
        "    grid_search_linear.fit(X, Y)\n",
        "    grid_search_polynomial.fit(X, Y)\n",
        "\n",
        "    k_linear.append(grid_search_linear.best_score_)\n",
        "    k_polynomial.append(grid_search_polynomial.best_score_)\n",
        "\n",
        "print(' Result -> linear value =', grid_search_linear.best_score_, grid_search_linear.best_params_)\n",
        "print(' Result -> polynomial value =', grid_search_polynomial.best_score_, grid_search_polynomial.best_params_)\n"
      ],
      "execution_count": 11,
      "outputs": [
        {
          "output_type": "stream",
          "text": [
            "Not setting metadata\n",
            "Not setting metadata\n",
            "125 matching events found\n",
            "No baseline correction applied\n",
            "0 projection items activated\n",
            "0 bad epochs dropped\n",
            "Setting up band-pass filter from 5 - 14 Hz\n",
            "\n",
            "FIR filter parameters\n",
            "---------------------\n",
            "Designing a one-pass, zero-phase, non-causal bandpass filter:\n",
            "- Windowed time-domain design (firwin) method\n",
            "- Hamming window with 0.0194 passband ripple and 53 dB stopband attenuation\n",
            "- Lower passband edge: 5.00\n",
            "- Lower transition bandwidth: 2.00 Hz (-6 dB cutoff frequency: 4.00 Hz)\n",
            "- Upper passband edge: 14.00 Hz\n",
            "- Upper transition bandwidth: 3.50 Hz (-6 dB cutoff frequency: 15.75 Hz)\n",
            "- Filter length: 399 samples (1.656 sec)\n",
            "\n",
            "    Using multitaper spectrum estimation with 7 DPSS windows\n",
            "    Using multitaper spectrum estimation with 7 DPSS windows\n",
            "    Using multitaper spectrum estimation with 7 DPSS windows\n",
            "    Using multitaper spectrum estimation with 7 DPSS windows\n",
            "    Using multitaper spectrum estimation with 7 DPSS windows\n",
            "    Using multitaper spectrum estimation with 7 DPSS windows\n",
            " Result -> linear value = 0.4888 {'C': 0.01, 'kernel': 'linear'}\n",
            " Result -> polynomial value = 0.5296 {'C': 0.01, 'gamma': 1e-06, 'kernel': 'poly'}\n"
          ],
          "name": "stdout"
        }
      ]
    },
    {
      "cell_type": "code",
      "metadata": {
        "id": "66SqKpZ6cuhZ",
        "outputId": "00f45cff-7b11-4110-b365-99fa3d2b1055",
        "colab": {
          "base_uri": "https://localhost:8080/",
          "height": 135
        }
      },
      "source": [
        "# Referências\n",
        "## https://cs.nyu.edu/~yann/2010f-G22-2565-001/diglib/lecture12-sparse-coding.pdf\n",
        "## https://scikit-learn.org/stable/modules/generated/sklearn.model_selection.StratifiedShuffleSplit.html\n",
        "## https://www.casadocodigo.com.br/pages/sumario-pandas-python\n",
        "## material da aula "
      ],
      "execution_count": 12,
      "outputs": [
        {
          "output_type": "error",
          "ename": "SyntaxError",
          "evalue": "ignored",
          "traceback": [
            "\u001b[0;36m  File \u001b[0;32m\"<ipython-input-12-136ee3b6a8e4>\"\u001b[0;36m, line \u001b[0;32m2\u001b[0m\n\u001b[0;31m    https://cs.nyu.edu/~yann/2010f-G22-2565-001/diglib/lecture12-sparse-coding.pdf\u001b[0m\n\u001b[0m           ^\u001b[0m\n\u001b[0;31mSyntaxError\u001b[0m\u001b[0;31m:\u001b[0m invalid syntax\n"
          ]
        }
      ]
    }
  ]
}