{
 "cells": [
  {
   "cell_type": "code",
   "execution_count": null,
   "metadata": {},
   "outputs": [],
   "source": [
    "\"\"\"Reconhecimento de Padrões\n",
    "\n",
    "Resumo\n",
    "\n",
    "Sinais EEG com 256 canais capturados de 11 categorias executando o protocolo SSVEP.\n",
    "Durante frequências diferentes 6.66, 7.50, 8.57, 10.00 e 12.00Hz para simulação visual.\n",
    "\n",
    "\n",
    "Os individuos (Subjects) foram classificados por idade, genero, biotipo, tamanho do cabelo\n",
    "e abilidade da mão.\n",
    "\n",
    "\n",
    "Figura com o posicionamento dos sensores.\n",
    "\n",
    "\n",
    "Observações importantes\n",
    "\n",
    "Freqüências de oscilação:\n",
    " Normalmente, a taxa de atualização de uma tela LCD é de 60 Hz, criando uma restrição ao número de freqüências que podem ser selecionadas.\n",
    " Especificamente, apenas as frequências que, quando divididas com a taxa de atualização da tela resultam em um quociente inteiro, podem ser selecionadas. \n",
    " Como resultado, as frequências que puderam ser obtidas foram as seguintes: 30,00, 20,00, 15,00, 12,00, 10,00, 8,57, 7,50 e 6,66 Hz. \n",
    " Além disso, também é importante evitar o uso de frequências que sejam múltiplos de outra frequência, por exemplo, fazer a escolha de usar 10,00 Hz proíbe o uso de 20,00 e 30,00 Hz. \n",
    " Tendo em mente as limitações descritas anteriormente, as frequências selecionadas para o experimento foram: 12,00, 10,00, 8,57, 7,50 e 6,66 Hz.\n",
    "\n",
    " Duração do ensaio: A duração de cada ensaio foi fixada em 5 segundos, pois este tempo foi considerado adequado para permitir o occipital do cérebro para imitar a frequência de estimulação e ainda ser pequeno o suficiente formando uma seleção no contexto de uma interface cérebro-computador. No entanto, a investigação da troca entre a precisão da classificação e a quantidade de tempo em que a frequência de oscilação é detectada está incluída em planos imediatos para trabalhos futuros. \n",
    "\n",
    " Artefatos observados: Durante a apresentação do estímulo ao sujeito S007, o material de pesquisa observou que o sujeito tinha um tendência a piscar os olhos.\n",
    " Como resultado, espera-se que a interferência, em matéria de artefatos, no sinal gravado seja alta.\n",
    " Consentimento informado: Antes do experimento, os participantes foram cuidadosamente instruídos sobre o procedimento de gravação e seus requisitos e receberam um formulário de consentimento para assinar após lendo-o completamente. \n",
    " Após a leitura do formulário e a escuta de nossas instruções orais, os sujeitos foram motivados a questionar o procedimento a fim de eliminar mal-entendidos sobre o processo. \n",
    " Ao assinar documento fornecido, os participantes declararam sua participação voluntária no experimento e seu consentimento em tornar seus dados públicos para fins de pesquisa. \"\"\"\n",
    "\n",
    "\n"
   ]
  },
  {
   "cell_type": "code",
   "execution_count": 1,
   "metadata": {},
   "outputs": [
    {
     "ename": "FileNotFoundError",
     "evalue": "[Errno 2] No such file or directory: 'EEG_SSVEP_Dataset_II_1.npy'",
     "output_type": "error",
     "traceback": [
      "\u001b[0;31m---------------------------------------------------------------------------\u001b[0m",
      "\u001b[0;31mFileNotFoundError\u001b[0m                         Traceback (most recent call last)",
      "\u001b[0;32m<ipython-input-1-4dba370bd998>\u001b[0m in \u001b[0;36m<module>\u001b[0;34m\u001b[0m\n\u001b[1;32m      3\u001b[0m \u001b[0;34m\u001b[0m\u001b[0m\n\u001b[1;32m      4\u001b[0m \u001b[0mfilename\u001b[0m \u001b[0;34m=\u001b[0m \u001b[0;34m(\u001b[0m\u001b[0;34m\"EEG_SSVEP_Dataset_II_1.npy\"\u001b[0m\u001b[0;34m)\u001b[0m\u001b[0;34m\u001b[0m\u001b[0;34m\u001b[0m\u001b[0m\n\u001b[0;32m----> 5\u001b[0;31m \u001b[0mdata\u001b[0m \u001b[0;34m=\u001b[0m \u001b[0mnp\u001b[0m\u001b[0;34m.\u001b[0m\u001b[0mload\u001b[0m\u001b[0;34m(\u001b[0m\u001b[0mfilename\u001b[0m\u001b[0;34m)\u001b[0m\u001b[0;34m\u001b[0m\u001b[0;34m\u001b[0m\u001b[0m\n\u001b[0m\u001b[1;32m      6\u001b[0m \u001b[0mprint\u001b[0m\u001b[0;34m(\u001b[0m\u001b[0mdata\u001b[0m\u001b[0;34m.\u001b[0m\u001b[0mshape\u001b[0m\u001b[0;34m)\u001b[0m\u001b[0;34m\u001b[0m\u001b[0;34m\u001b[0m\u001b[0m\n",
      "\u001b[0;32m~/conda/envs/python/lib/python3.6/site-packages/numpy/lib/npyio.py\u001b[0m in \u001b[0;36mload\u001b[0;34m(file, mmap_mode, allow_pickle, fix_imports, encoding)\u001b[0m\n\u001b[1;32m    414\u001b[0m             \u001b[0mown_fid\u001b[0m \u001b[0;34m=\u001b[0m \u001b[0;32mFalse\u001b[0m\u001b[0;34m\u001b[0m\u001b[0;34m\u001b[0m\u001b[0m\n\u001b[1;32m    415\u001b[0m         \u001b[0;32melse\u001b[0m\u001b[0;34m:\u001b[0m\u001b[0;34m\u001b[0m\u001b[0;34m\u001b[0m\u001b[0m\n\u001b[0;32m--> 416\u001b[0;31m             \u001b[0mfid\u001b[0m \u001b[0;34m=\u001b[0m \u001b[0mstack\u001b[0m\u001b[0;34m.\u001b[0m\u001b[0menter_context\u001b[0m\u001b[0;34m(\u001b[0m\u001b[0mopen\u001b[0m\u001b[0;34m(\u001b[0m\u001b[0mos_fspath\u001b[0m\u001b[0;34m(\u001b[0m\u001b[0mfile\u001b[0m\u001b[0;34m)\u001b[0m\u001b[0;34m,\u001b[0m \u001b[0;34m\"rb\"\u001b[0m\u001b[0;34m)\u001b[0m\u001b[0;34m)\u001b[0m\u001b[0;34m\u001b[0m\u001b[0;34m\u001b[0m\u001b[0m\n\u001b[0m\u001b[1;32m    417\u001b[0m             \u001b[0mown_fid\u001b[0m \u001b[0;34m=\u001b[0m \u001b[0;32mTrue\u001b[0m\u001b[0;34m\u001b[0m\u001b[0;34m\u001b[0m\u001b[0m\n\u001b[1;32m    418\u001b[0m \u001b[0;34m\u001b[0m\u001b[0m\n",
      "\u001b[0;31mFileNotFoundError\u001b[0m: [Errno 2] No such file or directory: 'EEG_SSVEP_Dataset_II_1.npy'"
     ]
    }
   ],
   "source": [
    "import numpy as np\n",
    "import scipy\n",
    "\n",
    "filename = (\"EEG_SSVEP_Dataset_II_1.npy\")\n",
    "data = np.load(filename)\n",
    "print(data.shape)"
   ]
  },
  {
   "cell_type": "code",
   "execution_count": null,
   "metadata": {},
   "outputs": [],
   "source": []
  }
 ],
 "metadata": {
  "kernelspec": {
   "display_name": "Python",
   "language": "python",
   "name": "conda-env-python-py"
  },
  "language_info": {
   "codemirror_mode": {
    "name": "ipython",
    "version": 3
   },
   "file_extension": ".py",
   "mimetype": "text/x-python",
   "name": "python",
   "nbconvert_exporter": "python",
   "pygments_lexer": "ipython3",
   "version": "3.6.11"
  }
 },
 "nbformat": 4,
 "nbformat_minor": 4
}
